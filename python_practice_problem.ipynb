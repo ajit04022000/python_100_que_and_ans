{
  "nbformat": 4,
  "nbformat_minor": 0,
  "metadata": {
    "colab": {
      "provenance": [],
      "collapsed_sections": [],
      "authorship_tag": "ABX9TyPG8H1okBP1YLzRrzKRbe6j",
      "include_colab_link": true
    },
    "kernelspec": {
      "name": "python3",
      "display_name": "Python 3"
    },
    "language_info": {
      "name": "python"
    }
  },
  "cells": [
    {
      "cell_type": "markdown",
      "metadata": {
        "id": "view-in-github",
        "colab_type": "text"
      },
      "source": [
        "<a href=\"https://colab.research.google.com/github/ajit04022000/python_100_que_and_ans/blob/main/python_practice_problem.ipynb\" target=\"_parent\"><img src=\"https://colab.research.google.com/assets/colab-badge.svg\" alt=\"Open In Colab\"/></a>"
      ]
    },
    {
      "cell_type": "markdown",
      "source": [
        "##<b>1) User will input (3ages).Find the oldest one"
      ],
      "metadata": {
        "id": "C9F6NwCm5oj6"
      }
    },
    {
      "cell_type": "code",
      "execution_count": null,
      "metadata": {
        "id": "tURGOGsqGxLo",
        "colab": {
          "base_uri": "https://localhost:8080/"
        },
        "outputId": "0b1bf1de-1f1d-4310-b294-588e42baf735"
      },
      "outputs": [
        {
          "output_type": "stream",
          "name": "stdout",
          "text": [
            "enter thr 1st age : 55\n",
            "enter thr 2nd age : 78\n",
            "enter thr 3rd age : 11\n",
            "the oldest age is :\n"
          ]
        },
        {
          "output_type": "execute_result",
          "data": {
            "text/plain": [
              "78"
            ]
          },
          "metadata": {},
          "execution_count": 21
        }
      ],
      "source": [
        "first = int(input(\"enter thr 1st age : \"))\n",
        "second = int(input(\"enter thr 2nd age : \"))\n",
        "third = int(input(\"enter thr 3rd age : \"))\n",
        "new_list = []\n",
        "new_list.append(first)\n",
        "new_list.append(second)\n",
        "new_list.append(third)\n",
        "print(\"the oldest age is :\" )\n",
        "sorted(new_list)[-1]"
      ]
    },
    {
      "cell_type": "markdown",
      "source": [
        "##<b>2) Write a program that will convert celsius value to fahrenheit"
      ],
      "metadata": {
        "id": "hnju_2wX-jGl"
      }
    },
    {
      "cell_type": "markdown",
      "source": [
        "The formula for Fahrenheit to Celsius is °C = [(°F-32)×5]/9"
      ],
      "metadata": {
        "id": "peFaSiag_H1I"
      }
    },
    {
      "cell_type": "code",
      "source": [
        "far  = int(input(\"calculating the celcius of : \"))\n",
        "def far_cel (far):\n",
        "  cel = (far-32)*5/9\n",
        "  return cel\n",
        "print(f\"the celsius of {far} is : {int(far_cel(far))}\")"
      ],
      "metadata": {
        "colab": {
          "base_uri": "https://localhost:8080/"
        },
        "id": "WNvUJ_PSCgli",
        "outputId": "601cd220-f0a9-4656-f38c-14f032e5c72b"
      },
      "execution_count": null,
      "outputs": [
        {
          "output_type": "stream",
          "name": "stdout",
          "text": [
            "calculating the celcius of : 5\n",
            "the celsius of 5 is : -15\n"
          ]
        }
      ]
    },
    {
      "cell_type": "markdown",
      "source": [
        "##<b> 3)User will input (2numbers).Write a program to swap the numbers"
      ],
      "metadata": {
        "id": "Lms_fz1kAkQ1"
      }
    },
    {
      "cell_type": "code",
      "source": [
        "# To take inputs from the user\n",
        "x = input('Enter value of x: ')\n",
        "y = input('Enter value of y: ')\n",
        "\n",
        "# create a temporary variable and swap the values\n",
        "temp = x\n",
        "x = y\n",
        "y = temp\n",
        "\n",
        "print('The value of x after swapping: {}'.format(x))\n",
        "print('The value of y after swapping: {}'.format(y))"
      ],
      "metadata": {
        "colab": {
          "base_uri": "https://localhost:8080/"
        },
        "id": "7VoDf0NlGIu9",
        "outputId": "74ce2468-a41d-4d52-e315-e3bcb2a972f1"
      },
      "execution_count": null,
      "outputs": [
        {
          "output_type": "stream",
          "name": "stdout",
          "text": [
            "Enter value of x: 55\n",
            "Enter value of y: 11\n",
            "The value of x after swapping: 11\n",
            "The value of y after swapping: 55\n"
          ]
        }
      ]
    },
    {
      "cell_type": "markdown",
      "source": [
        "##<b>4)Write a program that will give you the sum of 3 digits"
      ],
      "metadata": {
        "id": "mjtyZy3VHOzx"
      }
    },
    {
      "cell_type": "code",
      "source": [
        "first = int(input('give the 1st number : '))\n",
        "second = int(input('give the 2st number : '))\n",
        "third = int(input('give the 3st number : '))\n",
        "\n",
        "def summation(first,second,third):\n",
        "  adding = (first+second+third)\n",
        "  return adding\n",
        "print(f\"the summation of first,second,third is : {summation(first,second,third)}\")"
      ],
      "metadata": {
        "colab": {
          "base_uri": "https://localhost:8080/"
        },
        "id": "KqriXB2UGymU",
        "outputId": "223a8c31-06fa-4969-8cea-92bbfc580f49"
      },
      "execution_count": null,
      "outputs": [
        {
          "output_type": "stream",
          "name": "stdout",
          "text": [
            "give the 1st number : 5\n",
            "give the 2st number : 5\n",
            "give the 3st number : 5\n",
            "the summation of first,second,third is : 15\n"
          ]
        }
      ]
    },
    {
      "cell_type": "code",
      "source": [
        "summation(1,5,6)"
      ],
      "metadata": {
        "colab": {
          "base_uri": "https://localhost:8080/"
        },
        "id": "m69jtMVBHitY",
        "outputId": "f3baaf2b-c901-4bce-e963-aafa2b93d565"
      },
      "execution_count": null,
      "outputs": [
        {
          "output_type": "execute_result",
          "data": {
            "text/plain": [
              "12"
            ]
          },
          "metadata": {},
          "execution_count": 68
        }
      ]
    },
    {
      "cell_type": "markdown",
      "source": [
        "##<b>5) Write a program that will reverse a four digit number.Also it checks whether the reverse is true."
      ],
      "metadata": {
        "id": "YMxFbQCZeppB"
      }
    },
    {
      "cell_type": "code",
      "source": [
        "num = int(input(\"input the four degits number :\"))\n",
        "reversed_num = 0\n",
        "\n",
        "while num != 0:\n",
        "    digit = num % 10\n",
        "    reversed_num = reversed_num * 10 + digit\n",
        "    num //= 10\n",
        "\n",
        "print(\"Reversed Number: \" + str(reversed_num))"
      ],
      "metadata": {
        "id": "Nv64sZwGHmZP",
        "colab": {
          "base_uri": "https://localhost:8080/"
        },
        "outputId": "99e9cd22-6206-4546-f090-77493171ee29"
      },
      "execution_count": null,
      "outputs": [
        {
          "output_type": "stream",
          "name": "stdout",
          "text": [
            "input the four degits number :1234\n",
            "Reversed Number: 4321\n"
          ]
        }
      ]
    },
    {
      "cell_type": "code",
      "source": [
        "## its also a string slicing method to the same task\n",
        "num = int(input(\"input the four degits number :\"))\n",
        "print(f'Reversed Number: {str(num)[::-1]}')"
      ],
      "metadata": {
        "colab": {
          "base_uri": "https://localhost:8080/"
        },
        "id": "iv0pIZKBfpaB",
        "outputId": "fce932ac-dea8-4ad2-9926-24d02c7cb6c4"
      },
      "execution_count": null,
      "outputs": [
        {
          "output_type": "stream",
          "name": "stdout",
          "text": [
            "input the four degits number :4567\n",
            "Reversed Number: 7654\n"
          ]
        }
      ]
    },
    {
      "cell_type": "markdown",
      "source": [
        "##<b>6)Write a program that will tell whether the number entered by the user is odd or even."
      ],
      "metadata": {
        "id": "cMgXDgZ1gQ0l"
      }
    },
    {
      "cell_type": "code",
      "source": [
        "def fid_num(num):\n",
        "  if num%2==0:\n",
        "    print(f\"the number {num} is a even number\")\n",
        "  else:\n",
        "    print(f\"the number {num} is a odd number\")"
      ],
      "metadata": {
        "id": "VvVghFGzj8m2"
      },
      "execution_count": null,
      "outputs": []
    },
    {
      "cell_type": "code",
      "source": [
        "num = int(input(\"input the number :\"))\n",
        "fid_num(num)"
      ],
      "metadata": {
        "id": "l6oTZAnbj_O4"
      },
      "execution_count": null,
      "outputs": []
    },
    {
      "cell_type": "code",
      "source": [
        "## another approach\n",
        "\n",
        "num = int(input(\"input the number :\"))\n",
        "if num%2==0:\n",
        "  print(f\"the number {num} is a even number\")\n",
        "else:\n",
        "  print(f\"the number {num} is a odd number\")"
      ],
      "metadata": {
        "colab": {
          "base_uri": "https://localhost:8080/"
        },
        "id": "snDT9hVojOmJ",
        "outputId": "41499de1-82d7-4a55-a6e0-85f93c33e7c8"
      },
      "execution_count": null,
      "outputs": [
        {
          "output_type": "stream",
          "name": "stdout",
          "text": [
            "input the number :5\n",
            "the number 5 is a odd number\n"
          ]
        }
      ]
    },
    {
      "cell_type": "markdown",
      "source": [
        "##<b> 7)Write a program that will tell whether the given year is a leap year or not."
      ],
      "metadata": {
        "id": "H8tzrf-OipmO"
      }
    },
    {
      "cell_type": "code",
      "source": [
        "year=int(input(\"Enter year to be checked:\")) \n",
        "if(year%4==0 and year%100!= 0 or year%400==0):\n",
        "  print(\"The year is a leap year!\") \n",
        "else:\n",
        "  print(\"The year isn't a leap year!\")"
      ],
      "metadata": {
        "colab": {
          "base_uri": "https://localhost:8080/"
        },
        "id": "6DrxVnjchMhy",
        "outputId": "a8b973b9-e2ad-4b7c-a3e9-45f45aa33b59"
      },
      "execution_count": null,
      "outputs": [
        {
          "output_type": "stream",
          "name": "stdout",
          "text": [
            "Enter year to be checked:2018\n",
            "The year isn't a leap year!\n"
          ]
        }
      ]
    },
    {
      "cell_type": "markdown",
      "source": [
        "##<b>8)Write a program to find the euclidean distance between two coordinates."
      ],
      "metadata": {
        "id": "5aDn0_QKkKfc"
      }
    },
    {
      "cell_type": "code",
      "source": [
        "x1=int(input(\"enter x1 : \"))\n",
        "x2=int(input(\"enter x2 : \"))\n",
        "y1=int(input(\"enter y1 : \"))\n",
        "y2=int(input(\"enter y2 : \"))\n",
        "result= ((((x2 - x1 )**2) + ((y2-y1)**2) )**0.5)\n",
        "# print(f'the euclidean distance between two coordinates:{result}')\n",
        "print(\"distance between\",(x1,x2),\"and\",(y1,y2),\"is : \",result)"
      ],
      "metadata": {
        "colab": {
          "base_uri": "https://localhost:8080/"
        },
        "id": "BJfrDFRRjCqX",
        "outputId": "13747e73-8282-45ae-96e1-47c3051796df"
      },
      "execution_count": null,
      "outputs": [
        {
          "output_type": "stream",
          "name": "stdout",
          "text": [
            "enter x1 : 4\n",
            "enter x2 : 6\n",
            "enter y1 : 0\n",
            "enter y2 : 6\n",
            "distance between (4, 6) and (0, 6) is :  6.324555320336759\n"
          ]
        }
      ]
    },
    {
      "cell_type": "code",
      "source": [
        "## another approach\n",
        "import math\n",
        "\n",
        "a=input(\"enter first coordinate : \")\n",
        "p1 = a.split(\",\")\n",
        "b=input(\"enter second coordinate : \")\n",
        "p2 = b.split(\",\")\n",
        "distance = math.sqrt( ((int(p1[0])-int(p2[0]))**2)+((int(p1[1])-int(p2[1]))**2) )\n",
        "print(\"distance between \", a,\"and\", b, \"is\",distance) "
      ],
      "metadata": {
        "colab": {
          "base_uri": "https://localhost:8080/"
        },
        "id": "TqnfdaI7kcPy",
        "outputId": "0a8cbc20-6361-429b-8fcb-f11914ee4564"
      },
      "execution_count": null,
      "outputs": [
        {
          "output_type": "stream",
          "name": "stdout",
          "text": [
            "enter first coordinate : 4,0\n",
            "enter second coordinate : 6,6\n",
            "distance between  4,0 and 6,6 is 6.324555320336759\n"
          ]
        }
      ]
    },
    {
      "cell_type": "markdown",
      "source": [
        "##<b>9)Write a program that take a user inputr of three angles and will find out whether it can form a triangle or not.\n"
      ],
      "metadata": {
        "id": "FnA1icElzI1t"
      }
    },
    {
      "cell_type": "code",
      "source": [
        "# Python Program to check Triangle is Valid or Not\n",
        "\n",
        "a = int(input('Please Enter the First Angle of a Triangle: '))\n",
        "b = int(input('Please Enter the Second Angle of a Triangle: '))\n",
        "c = int(input('Please Enter the Third Angle of a Triangle: '))\n",
        "\n",
        "# checking Triangle is Valid or Not\n",
        "total = a + b + c\n",
        "\n",
        "if total == 180:\n",
        "    print(\"\\nThis is a Valid Triangle\")\n",
        "else:\n",
        "    print(\"\\nThis is an Invalid Triangle\")"
      ],
      "metadata": {
        "id": "Jt5A6CFzlNxY",
        "colab": {
          "base_uri": "https://localhost:8080/"
        },
        "outputId": "a4e64501-46b8-4dc0-c66e-1e2028c195bd"
      },
      "execution_count": null,
      "outputs": [
        {
          "output_type": "stream",
          "name": "stdout",
          "text": [
            "Please Enter the First Angle of a Triangle: 45\n",
            "Please Enter the Second Angle of a Triangle: 75\n",
            "Please Enter the Third Angle of a Triangle: 60\n",
            "\n",
            "This is a Valid Triangle\n"
          ]
        }
      ]
    },
    {
      "cell_type": "markdown",
      "source": [
        "##<b>10)Write a program that will take user input of cost price and selling price and determines whether its a loss or a profit"
      ],
      "metadata": {
        "id": "feSiOQHx0XfF"
      }
    },
    {
      "cell_type": "code",
      "source": [
        "cp=float(input(\"Enter the Cost Price : \"));\n",
        "sp=float(input(\"Enter the Selling Price : \"));\n",
        "if cp==sp:\n",
        "    print(\"No Profit No Loss\")\n",
        "else:\n",
        "    if sp>cp:\n",
        "        print(\"Profit of \",sp-cp)\n",
        "    else:\n",
        "        print(\"Loss of \",cp-sp)"
      ],
      "metadata": {
        "colab": {
          "base_uri": "https://localhost:8080/"
        },
        "id": "P7LZ2jaOz_Z_",
        "outputId": "0cf191ff-f22b-4c05-809a-288fd098d30f"
      },
      "execution_count": null,
      "outputs": [
        {
          "output_type": "stream",
          "name": "stdout",
          "text": [
            "Enter the Cost Price : 55\n",
            "Enter the Selling Price : 13\n",
            "Loss of  42.0\n"
          ]
        }
      ]
    },
    {
      "cell_type": "markdown",
      "source": [
        "##<b>11)Write a program to find the simple interest when the value of principle,rate of interest and time period is given."
      ],
      "metadata": {
        "id": "MAuQZfTx0tGP"
      }
    },
    {
      "cell_type": "code",
      "source": [
        "p = float(input(\"Enter principal: \"))\n",
        "r = float(input(\"Enter rate: \"))\n",
        "t = float(input(\"Enter time: \"))\n",
        "\n",
        "si = p * r * t / 100\n",
        "\n",
        "print(\"Simple Interest =\", si)"
      ],
      "metadata": {
        "colab": {
          "base_uri": "https://localhost:8080/"
        },
        "id": "M0gq9eXd0kg2",
        "outputId": "d5037385-68ac-44c4-ab69-c955446c0181"
      },
      "execution_count": null,
      "outputs": [
        {
          "output_type": "stream",
          "name": "stdout",
          "text": [
            "Enter principal: 55000.75\n",
            "Enter rate: 14.5\n",
            "Enter time: 3\n",
            "Simple Interest = 23925.32625\n"
          ]
        }
      ]
    },
    {
      "cell_type": "markdown",
      "source": [
        "##<b>12)Write a program to find the volume of the cylinder. Also find the cost when ,when the cost of 1litre milk is 40Rs."
      ],
      "metadata": {
        "id": "5u6TiFTV1cdL"
      }
    },
    {
      "cell_type": "code",
      "source": [
        "pi=22/7\n",
        "height = float(input('Height of cylinder: '))\n",
        "radian = float(input('Radius of cylinder: '))\n",
        "volume = pi * radian * radian * height\n",
        "sur_area = ((2*pi*radian) * height) + ((pi*radian**2)*2)\n",
        "print(\"Volume is: \", volume)\n",
        "print(\"Surface Area is: \", sur_area)"
      ],
      "metadata": {
        "id": "aulMYajG1FG8",
        "colab": {
          "base_uri": "https://localhost:8080/"
        },
        "outputId": "562abac8-ae85-429e-e6be-386fbd7498bb"
      },
      "execution_count": null,
      "outputs": [
        {
          "output_type": "stream",
          "name": "stdout",
          "text": [
            "Height of cylinder: 6\n",
            "Radius of cylinder: 4\n",
            "Volume is:  301.7142857142857\n",
            "Surface Area is:  251.42857142857144\n"
          ]
        }
      ]
    },
    {
      "cell_type": "markdown",
      "source": [
        "##<b>13)Write  a program that will tell whether the given number is divisible by 3 & 6."
      ],
      "metadata": {
        "id": "OohGFV9lQM6y"
      }
    },
    {
      "cell_type": "code",
      "source": [
        "num = int(input(\"GICE ME THE NUMBER: \"))\n",
        "if num%3 == 0:\n",
        "  print(f\"the number {num} is devisible by 3\")\n",
        "  if num%6 == 0:\n",
        "    print(f\"the number {num} is devisible by 6\")\n",
        "else:\n",
        "  print(f\"the {num} is not devisible by 3 or 6\")"
      ],
      "metadata": {
        "colab": {
          "base_uri": "https://localhost:8080/"
        },
        "id": "SgeQyofJP83J",
        "outputId": "0f33b652-79f4-4e76-8434-f085dff8e16b"
      },
      "execution_count": null,
      "outputs": [
        {
          "output_type": "stream",
          "name": "stdout",
          "text": [
            "GICE ME THE NUMBER: 3\n",
            "the number 3 is devisible by 3\n"
          ]
        }
      ]
    },
    {
      "cell_type": "markdown",
      "source": [
        "##<b>14)Write a program that will determine weather when the value of temperature and humidity is provided by the user.\n",
        "      TEMPERATURE(C)      HUMIDITY(%)          WEATHER\n",
        "\n",
        "---\n",
        "\n",
        "\n",
        "\n",
        "      >= 30               >=90                Hot and Humid\n",
        "      >= 30               < 90                Hot\n",
        "      <30                 >= 90               Cool and Humid\n",
        "      <30                 <90                 Cool\n"
      ],
      "metadata": {
        "id": "4T1qqM1pRkJW"
      }
    },
    {
      "cell_type": "code",
      "source": [
        "temp = int(input(\"give me the temperature : \"))\n",
        "humi = int(input(\"give me the humidity : \"))\n",
        "\n",
        "if temp>=30 & humi>=90:\n",
        "  print(\"Hot and Humid\")\n",
        "elif temp>=30 & humi<90:\n",
        "  print(\"hot\")\n",
        "elif temp<30 & humi>=90:\n",
        "  print('Cool and Humid')\n",
        "elif temp<30 & humi<90:\n",
        "  print(\"Cool\")\n",
        "else:\n",
        "  print(\"ERROR 800\")\n"
      ],
      "metadata": {
        "colab": {
          "base_uri": "https://localhost:8080/"
        },
        "id": "RvTb0GQwRGNp",
        "outputId": "a47ea4fa-ad80-49e5-ece3-e155ede81fed"
      },
      "execution_count": null,
      "outputs": [
        {
          "name": "stdout",
          "output_type": "stream",
          "text": [
            "give me the temperature : 50\n"
          ]
        }
      ]
    },
    {
      "cell_type": "markdown",
      "source": [
        "##<b>15)Write a program that will take three digits from the user and add the square of each digit."
      ],
      "metadata": {
        "id": "e1vAi8Krw0Il"
      }
    },
    {
      "cell_type": "code",
      "source": [
        "def sqursum(a,b,c):\n",
        "  sqresum = a**2+b**2+c**2\n",
        "  print(f'the squre addation of {a},{b},{c} is : {sqresum}') "
      ],
      "metadata": {
        "id": "87yZNQAWTaTX"
      },
      "execution_count": null,
      "outputs": []
    },
    {
      "cell_type": "code",
      "source": [
        "sqursum(2,2,2)"
      ],
      "metadata": {
        "colab": {
          "base_uri": "https://localhost:8080/"
        },
        "id": "i40aCqJJxMUd",
        "outputId": "8859b2f3-4c78-4818-d55a-a0db41f12638"
      },
      "execution_count": null,
      "outputs": [
        {
          "output_type": "stream",
          "name": "stdout",
          "text": [
            "the squre addation of 2,2,2 is : 12\n"
          ]
        }
      ]
    },
    {
      "cell_type": "markdown",
      "source": [
        "##<b>16)Write a program that will check whether the number is armstrong number or not."
      ],
      "metadata": {
        "id": "sfZEJxtzIpow"
      }
    },
    {
      "cell_type": "code",
      "source": [
        "# take input from the user\n",
        "num = int(input(\"Enter a number: \"))\n",
        "\n",
        "# initialize sum\n",
        "sum = 0\n",
        "\n",
        "# find the sum of the cube of each digit\n",
        "temp = num\n",
        "while temp > 0:\n",
        "   digit = temp % 10\n",
        "   sum += digit ** 3\n",
        "   temp //= 10\n",
        "\n",
        "# display the result\n",
        "if num == sum:\n",
        "   print(num,\"is an Armstrong number\")\n",
        "else:\n",
        "   print(num,\"is not an Armstrong number\")"
      ],
      "metadata": {
        "id": "gNhv99GqxTWm",
        "colab": {
          "base_uri": "https://localhost:8080/"
        },
        "outputId": "7733eb55-22fb-4f95-b798-507873681c92"
      },
      "execution_count": null,
      "outputs": [
        {
          "output_type": "stream",
          "name": "stdout",
          "text": [
            "Enter a number: 111\n",
            "111 is not an Armstrong number\n"
          ]
        }
      ]
    },
    {
      "cell_type": "markdown",
      "source": [
        "##<b>17)Write a program that will take user input of (4 digits number) and check whether the number is narcissist number or not."
      ],
      "metadata": {
        "id": "wv4w7Uv3Kzrv"
      }
    },
    {
      "cell_type": "code",
      "source": [
        "def is_narcissistic_num(num):\n",
        "\treturn num == sum([int(x) ** len(str(num)) for x in str(num)])\n",
        "\n",
        "print(is_narcissistic_num(153))\n",
        "print(is_narcissistic_num(370))\n",
        "print(is_narcissistic_num(407))\n",
        "print(is_narcissistic_num(409))\n",
        "print(is_narcissistic_num(1634))\n",
        "print(is_narcissistic_num(8208))\n",
        "print(is_narcissistic_num(9474))\n",
        "print(is_narcissistic_num(9475))"
      ],
      "metadata": {
        "id": "VmFobEv1KpVh"
      },
      "execution_count": null,
      "outputs": []
    },
    {
      "cell_type": "code",
      "source": [
        "## another approach\n",
        "n=input()\n",
        "m=int(n)\n",
        "s=0\n",
        "q=m\n",
        "while(m!=0):\n",
        "    p=m%10\n",
        "    s+=p**(len(n))\n",
        "    m=m//10\n",
        "if(s==q):\n",
        "    print('Yes')\n",
        "else:\n",
        "    print('No')"
      ],
      "metadata": {
        "colab": {
          "base_uri": "https://localhost:8080/"
        },
        "id": "CfOsA8J0LgDG",
        "outputId": "93b30f08-6db2-4b4d-d7c6-bacb901dccb5"
      },
      "execution_count": null,
      "outputs": [
        {
          "output_type": "stream",
          "name": "stdout",
          "text": [
            "153\n",
            "Yes\n"
          ]
        }
      ]
    },
    {
      "cell_type": "markdown",
      "source": [
        "##<b>18)Write a program that will give you the in hand salary after deduction of HRA(10%),DA(5%),PF(3%), and tax(if salary is between 5-10 lakh–10%),(11-20lakh–20%),(20< _   – 30%)(0-1lakh print k).\n"
      ],
      "metadata": {
        "id": "XvWkuGlSifw7"
      }
    },
    {
      "cell_type": "code",
      "source": [
        "user_input= float(input(\"Enter your annual salary:\"))\n",
        "if user_input> 500000 and user_input < 1000000:\n",
        "  tax = (10/100)*user_input\n",
        "  temp_salary =  user_input - tax\n",
        "elif user_input  > 1000000 and user_input < 2000000:\n",
        "   tax = (20/100)*user_input\n",
        "   temp_salary = user_input - tax\n",
        "else:\n",
        "  tax = (30/100) *user_input\n",
        "  temp_salary =  user_input - tax\n",
        "print(\"After salary reduction:\",temp_salary)\n",
        " \n",
        "hra = (10/100)*temp_salary\n",
        "da = (5/100)*temp_salary \n",
        "pf =  (3/100) *temp_salary\n",
        "\n",
        "in_handsalary = (temp_salary - hra - da - pf)/12\n",
        "print(\"in hand salary: \",in_handsalary)\n",
        "\n",
        "if in_handsalary <= 999:\n",
        "  print(in_handsalary)\n",
        "elif in_handsalary>= 1000 and in_handsalary <= 9999:\n",
        "  print(in_handsalary/1000, \"k\")\n",
        "elif in_handsalary >= 100000 and in_handsalary <=9999999:\n",
        "  print(in_handsalary/1000000, \"l\")\n",
        "else:\n",
        "  print(in_handsalary/10000000, \"Cr\")"
      ],
      "metadata": {
        "colab": {
          "base_uri": "https://localhost:8080/"
        },
        "id": "cowRVxPlifPg",
        "outputId": "514a95bf-60e0-4684-9a08-8cbb5edbda23"
      },
      "execution_count": null,
      "outputs": [
        {
          "output_type": "stream",
          "name": "stdout",
          "text": [
            "Enter your annual salary:600000000\n",
            "After salary reduction: 420000000.0\n",
            "in hand salary:  28700000.0\n",
            "2.87 Cr\n"
          ]
        }
      ]
    },
    {
      "cell_type": "markdown",
      "source": [
        "##<b>19)Write a menu driven program - \n",
        "1.cm to inch   \n",
        "2.kl to miles  \n",
        "3.usd to inr  \n",
        "4.exit"
      ],
      "metadata": {
        "id": "0BkeukdLmvEM"
      }
    },
    {
      "cell_type": "code",
      "source": [
        "while True:\n",
        "    print(\"Menu Driven Program\")\n",
        "    print(\"1.Convert Centimeter to inches\")\n",
        "    print(\"2.Convert KiloMeter to Mile\")\n",
        "    print(\"3.Convert USD to INR\")    \n",
        "    print(\"4.Exit\")\n",
        "    choice=int(input(\"Enter your choice:\"))\n",
        "    if choice==1:\n",
        "        cm=float(input(\"Enter Cm:\"))\n",
        "        print(\"Centimeter to inches\",cm * 0.394)\n",
        "        print(\"**********************************\")\n",
        "    \n",
        "    elif choice==2:\n",
        "        km=float(input(\"Enter Kilometer:\"))\n",
        "        # mile=int(input(\"Enter breadth of Rectangle:\"))\n",
        "        print(\"kilometer to mile:\",km*0.621)\n",
        "        print(\"**********************************\")\n",
        "    \n",
        "    elif choice==3:\n",
        "        usd=float(input(\"Enter the USD:\"))\n",
        "        print(\"USD to INR:\",usd*76.63)\n",
        "        print(\"**********************************\")\n",
        "        \n",
        "    elif choice==4:\n",
        "      print(\"exit\")\n",
        "      print(\"**********************************\")\n",
        "      break\n",
        "    else:\n",
        "        print(\"Wrong Choice\")\n",
        "        print(\"**********************************\")\n"
      ],
      "metadata": {
        "id": "CKiE35usMU-R",
        "colab": {
          "base_uri": "https://localhost:8080/"
        },
        "outputId": "38dbd089-ee0c-4d2d-bb33-2dc2f30b5461"
      },
      "execution_count": null,
      "outputs": [
        {
          "output_type": "stream",
          "name": "stdout",
          "text": [
            "Menu Driven Program\n",
            "1.Convert Centimeter to inches\n",
            "2.Convert KiloMeter to Mile\n",
            "3.Convert USD to INR\n",
            "4.Exit\n",
            "Enter your choice:1\n",
            "Enter Cm:45\n",
            "Centimeter to inches 17.73\n",
            "**********************************\n",
            "Menu Driven Program\n",
            "1.Convert Centimeter to inches\n",
            "2.Convert KiloMeter to Mile\n",
            "3.Convert USD to INR\n",
            "4.Exit\n",
            "Enter your choice:5\n",
            "Wrong Choice\n",
            "**********************************\n",
            "Menu Driven Program\n",
            "1.Convert Centimeter to inches\n",
            "2.Convert KiloMeter to Mile\n",
            "3.Convert USD to INR\n",
            "4.Exit\n",
            "Enter your choice:2\n",
            "Enter Kilometer:5\n",
            "kilometer to mile: 3.105\n",
            "**********************************\n",
            "Menu Driven Program\n",
            "1.Convert Centimeter to inches\n",
            "2.Convert KiloMeter to Mile\n",
            "3.Convert USD to INR\n",
            "4.Exit\n",
            "Enter your choice:3\n",
            "Enter the USD:567\n",
            "USD to INR: 43449.21\n",
            "**********************************\n",
            "Menu Driven Program\n",
            "1.Convert Centimeter to inches\n",
            "2.Convert KiloMeter to Mile\n",
            "3.Convert USD to INR\n",
            "4.Exit\n"
          ]
        }
      ]
    },
    {
      "cell_type": "markdown",
      "source": [
        "##<b>20) Write a program that will tell the number of dogs and chicken are there when the user will provide the value of total heads and legs."
      ],
      "metadata": {
        "id": "ulOUzLVGGB6P"
      }
    },
    {
      "cell_type": "code",
      "source": [
        "def give_leg_head(leg,head):\n",
        "  if leg== 4 and head==1:\n",
        "    print(\"this is a dog\")\n",
        "  elif leg==2  and head == 1:\n",
        "    print(\"this a chicken\")\n",
        "  else:\n",
        "    print(\"ask me only about the dog and chicken\")"
      ],
      "metadata": {
        "id": "DWUG4aLTGGmz"
      },
      "execution_count": null,
      "outputs": []
    },
    {
      "cell_type": "code",
      "source": [
        "give_leg_head(6,1)"
      ],
      "metadata": {
        "colab": {
          "base_uri": "https://localhost:8080/"
        },
        "id": "JcIT6AptGGja",
        "outputId": "8eb8a7d4-2a3b-44d0-bd56-bde5850244ac"
      },
      "execution_count": null,
      "outputs": [
        {
          "output_type": "stream",
          "name": "stdout",
          "text": [
            "ask me only about the dog and chicken\n"
          ]
        }
      ]
    },
    {
      "cell_type": "markdown",
      "source": [
        "#<b>21)Write a program that will swap numbers"
      ],
      "metadata": {
        "id": "3HPq2yGKkROa"
      }
    },
    {
      "cell_type": "code",
      "source": [
        "# Python program to swap two variables\n",
        "# To take inputs from the user\n",
        "x = input('Enter value of x: ')\n",
        "y = input('Enter value of y: ')\n",
        "\n",
        "# create a temporary variable and swap the values\n",
        "temp = x\n",
        "x = y\n",
        "y = temp\n",
        "\n",
        "print('The value of x after swapping: {}'.format(x))\n",
        "print('The value of y after swapping: {}'.format(y))"
      ],
      "metadata": {
        "colab": {
          "base_uri": "https://localhost:8080/"
        },
        "id": "B5R6Avj4kQOB",
        "outputId": "b4f01535-9b73-4595-a74e-76b7256fbbac"
      },
      "execution_count": 2,
      "outputs": [
        {
          "output_type": "stream",
          "name": "stdout",
          "text": [
            "Enter value of x: 5\n",
            "Enter value of y: 6\n",
            "The value of x after swapping: 6\n",
            "The value of y after swapping: 5\n"
          ]
        }
      ]
    },
    {
      "cell_type": "markdown",
      "source": [
        "#<b>22)Write a program to find the sum of first n numbers, where n will be provided by the user. Eg if the user provides n=10 the output should be 55."
      ],
      "metadata": {
        "id": "B05aqZjJmRFn"
      }
    },
    {
      "cell_type": "code",
      "source": [
        "# Sum of natural numbers up to num\n",
        "num = int(input(\"enter the no : \"))\n",
        "if num < 0:\n",
        "   print(\"Enter a positive number\")\n",
        "else:\n",
        "   sum = 0\n",
        "   # use while loop to iterate until zero\n",
        "   while(num > 0):\n",
        "       sum += num\n",
        "       num -= 1\n",
        "   print(\"The sum is\", sum)"
      ],
      "metadata": {
        "colab": {
          "base_uri": "https://localhost:8080/"
        },
        "id": "WOqbBXJCn9wP",
        "outputId": "14ccaa6c-1a0c-436e-c107-c10616033557"
      },
      "execution_count": 17,
      "outputs": [
        {
          "output_type": "stream",
          "name": "stdout",
          "text": [
            "enter the no : 5\n",
            "The sum is 15\n"
          ]
        }
      ]
    },
    {
      "cell_type": "markdown",
      "source": [
        "#<b>23)Write a program that can multiply 2 numbers provided by the user without using the * operator"
      ],
      "metadata": {
        "id": "R-bk9RtwoR9E"
      }
    },
    {
      "cell_type": "code",
      "source": [],
      "metadata": {
        "id": "SKyq6zBEqfTD"
      },
      "execution_count": 6,
      "outputs": []
    }
  ]
}