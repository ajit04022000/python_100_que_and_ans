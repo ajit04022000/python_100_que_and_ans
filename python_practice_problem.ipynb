{
  "nbformat": 4,
  "nbformat_minor": 0,
  "metadata": {
    "colab": {
      "name": "python practice problem.ipynb",
      "provenance": [],
      "authorship_tag": "ABX9TyP0CrhdMZ9iEBbMCkEAhTQt",
      "include_colab_link": true
    },
    "kernelspec": {
      "name": "python3",
      "display_name": "Python 3"
    },
    "language_info": {
      "name": "python"
    }
  },
  "cells": [
    {
      "cell_type": "markdown",
      "metadata": {
        "id": "view-in-github",
        "colab_type": "text"
      },
      "source": [
        "<a href=\"https://colab.research.google.com/github/ajit04022000/python_100_que_and_ans/blob/main/python_practice_problem.ipynb\" target=\"_parent\"><img src=\"https://colab.research.google.com/assets/colab-badge.svg\" alt=\"Open In Colab\"/></a>"
      ]
    },
    {
      "cell_type": "markdown",
      "source": [
        "##<b>1) User will input (3ages).Find the oldest one"
      ],
      "metadata": {
        "id": "C9F6NwCm5oj6"
      }
    },
    {
      "cell_type": "code",
      "execution_count": null,
      "metadata": {
        "id": "tURGOGsqGxLo",
        "colab": {
          "base_uri": "https://localhost:8080/"
        },
        "outputId": "0b1bf1de-1f1d-4310-b294-588e42baf735"
      },
      "outputs": [
        {
          "output_type": "stream",
          "name": "stdout",
          "text": [
            "enter thr 1st age : 55\n",
            "enter thr 2nd age : 78\n",
            "enter thr 3rd age : 11\n",
            "the oldest age is :\n"
          ]
        },
        {
          "output_type": "execute_result",
          "data": {
            "text/plain": [
              "78"
            ]
          },
          "metadata": {},
          "execution_count": 21
        }
      ],
      "source": [
        "first = int(input(\"enter thr 1st age : \"))\n",
        "second = int(input(\"enter thr 2nd age : \"))\n",
        "third = int(input(\"enter thr 3rd age : \"))\n",
        "new_list = []\n",
        "new_list.append(first)\n",
        "new_list.append(second)\n",
        "new_list.append(third)\n",
        "print(\"the oldest age is :\" )\n",
        "sorted(new_list)[-1]"
      ]
    },
    {
      "cell_type": "markdown",
      "source": [
        "##<b>2) Write a program that will convert celsius value to fahrenheit"
      ],
      "metadata": {
        "id": "hnju_2wX-jGl"
      }
    },
    {
      "cell_type": "markdown",
      "source": [
        "The formula for Fahrenheit to Celsius is °C = [(°F-32)×5]/9"
      ],
      "metadata": {
        "id": "peFaSiag_H1I"
      }
    },
    {
      "cell_type": "code",
      "source": [
        "far  = int(input(\"calculating the celcius of : \"))\n",
        "def far_cel (far):\n",
        "  cel = (far-32)*5/9\n",
        "  return cel\n",
        "print(f\"the celsius of {far} is : {int(far_cel(far))}\")"
      ],
      "metadata": {
        "colab": {
          "base_uri": "https://localhost:8080/"
        },
        "id": "WNvUJ_PSCgli",
        "outputId": "601cd220-f0a9-4656-f38c-14f032e5c72b"
      },
      "execution_count": null,
      "outputs": [
        {
          "output_type": "stream",
          "name": "stdout",
          "text": [
            "calculating the celcius of : 5\n",
            "the celsius of 5 is : -15\n"
          ]
        }
      ]
    },
    {
      "cell_type": "markdown",
      "source": [
        "##<b> 3)User will input (2numbers).Write a program to swap the numbers"
      ],
      "metadata": {
        "id": "Lms_fz1kAkQ1"
      }
    },
    {
      "cell_type": "code",
      "source": [
        "# To take inputs from the user\n",
        "x = input('Enter value of x: ')\n",
        "y = input('Enter value of y: ')\n",
        "\n",
        "# create a temporary variable and swap the values\n",
        "temp = x\n",
        "x = y\n",
        "y = temp\n",
        "\n",
        "print('The value of x after swapping: {}'.format(x))\n",
        "print('The value of y after swapping: {}'.format(y))"
      ],
      "metadata": {
        "colab": {
          "base_uri": "https://localhost:8080/"
        },
        "id": "7VoDf0NlGIu9",
        "outputId": "74ce2468-a41d-4d52-e315-e3bcb2a972f1"
      },
      "execution_count": null,
      "outputs": [
        {
          "output_type": "stream",
          "name": "stdout",
          "text": [
            "Enter value of x: 55\n",
            "Enter value of y: 11\n",
            "The value of x after swapping: 11\n",
            "The value of y after swapping: 55\n"
          ]
        }
      ]
    },
    {
      "cell_type": "markdown",
      "source": [
        "##<b>4)Write a program that will give you the sum of 3 digits"
      ],
      "metadata": {
        "id": "mjtyZy3VHOzx"
      }
    },
    {
      "cell_type": "code",
      "source": [
        "first = int(input('give the 1st number : '))\n",
        "second = int(input('give the 2st number : '))\n",
        "third = int(input('give the 3st number : '))\n",
        "\n",
        "def summation(first,second,third):\n",
        "  adding = (first+second+third)\n",
        "  return adding\n",
        "print(f\"the summation of first,second,third is : {summation(first,second,third)}\")"
      ],
      "metadata": {
        "colab": {
          "base_uri": "https://localhost:8080/"
        },
        "id": "KqriXB2UGymU",
        "outputId": "223a8c31-06fa-4969-8cea-92bbfc580f49"
      },
      "execution_count": null,
      "outputs": [
        {
          "output_type": "stream",
          "name": "stdout",
          "text": [
            "give the 1st number : 5\n",
            "give the 2st number : 5\n",
            "give the 3st number : 5\n",
            "the summation of first,second,third is : 15\n"
          ]
        }
      ]
    },
    {
      "cell_type": "code",
      "source": [
        "summation(1,5,6)"
      ],
      "metadata": {
        "colab": {
          "base_uri": "https://localhost:8080/"
        },
        "id": "m69jtMVBHitY",
        "outputId": "f3baaf2b-c901-4bce-e963-aafa2b93d565"
      },
      "execution_count": null,
      "outputs": [
        {
          "output_type": "execute_result",
          "data": {
            "text/plain": [
              "12"
            ]
          },
          "metadata": {},
          "execution_count": 68
        }
      ]
    },
    {
      "cell_type": "markdown",
      "source": [
        "##<b>5) Write a program that will reverse a four digit number.Also it checks whether the reverse is true."
      ],
      "metadata": {
        "id": "YMxFbQCZeppB"
      }
    },
    {
      "cell_type": "code",
      "source": [
        "num = int(input(\"input the four degits number :\"))\n",
        "reversed_num = 0\n",
        "\n",
        "while num != 0:\n",
        "    digit = num % 10\n",
        "    reversed_num = reversed_num * 10 + digit\n",
        "    num //= 10\n",
        "\n",
        "print(\"Reversed Number: \" + str(reversed_num))"
      ],
      "metadata": {
        "id": "Nv64sZwGHmZP",
        "colab": {
          "base_uri": "https://localhost:8080/"
        },
        "outputId": "99e9cd22-6206-4546-f090-77493171ee29"
      },
      "execution_count": null,
      "outputs": [
        {
          "output_type": "stream",
          "name": "stdout",
          "text": [
            "input the four degits number :1234\n",
            "Reversed Number: 4321\n"
          ]
        }
      ]
    },
    {
      "cell_type": "code",
      "source": [
        "## its also a string slicing method to the same task\n",
        "num = int(input(\"input the four degits number :\"))\n",
        "print(f'Reversed Number: {str(num)[::-1]}')"
      ],
      "metadata": {
        "colab": {
          "base_uri": "https://localhost:8080/"
        },
        "id": "iv0pIZKBfpaB",
        "outputId": "fce932ac-dea8-4ad2-9926-24d02c7cb6c4"
      },
      "execution_count": null,
      "outputs": [
        {
          "output_type": "stream",
          "name": "stdout",
          "text": [
            "input the four degits number :4567\n",
            "Reversed Number: 7654\n"
          ]
        }
      ]
    },
    {
      "cell_type": "markdown",
      "source": [
        "##<b>6)Write a program that will tell whether the number entered by the user is odd or even."
      ],
      "metadata": {
        "id": "cMgXDgZ1gQ0l"
      }
    },
    {
      "cell_type": "code",
      "source": [
        "def fid_num(num):\n",
        "  if num%2==0:\n",
        "    print(f\"the number {num} is a even number\")\n",
        "  else:\n",
        "    print(f\"the number {num} is a odd number\")"
      ],
      "metadata": {
        "id": "VvVghFGzj8m2"
      },
      "execution_count": null,
      "outputs": []
    },
    {
      "cell_type": "code",
      "source": [
        "num = int(input(\"input the number :\"))\n",
        "fid_num(num)"
      ],
      "metadata": {
        "id": "l6oTZAnbj_O4"
      },
      "execution_count": null,
      "outputs": []
    },
    {
      "cell_type": "code",
      "source": [
        "## another approach\n",
        "\n",
        "num = int(input(\"input the number :\"))\n",
        "if num%2==0:\n",
        "  print(f\"the number {num} is a even number\")\n",
        "else:\n",
        "  print(f\"the number {num} is a odd number\")"
      ],
      "metadata": {
        "colab": {
          "base_uri": "https://localhost:8080/"
        },
        "id": "snDT9hVojOmJ",
        "outputId": "41499de1-82d7-4a55-a6e0-85f93c33e7c8"
      },
      "execution_count": null,
      "outputs": [
        {
          "output_type": "stream",
          "name": "stdout",
          "text": [
            "input the number :5\n",
            "the number 5 is a odd number\n"
          ]
        }
      ]
    },
    {
      "cell_type": "markdown",
      "source": [
        "##<b> 7)Write a program that will tell whether the given year is a leap year or not."
      ],
      "metadata": {
        "id": "H8tzrf-OipmO"
      }
    },
    {
      "cell_type": "code",
      "source": [
        "year=int(input(\"Enter year to be checked:\")) \n",
        "if(year%4==0 and year%100!= 0 or year%400==0):\n",
        "  print(\"The year is a leap year!\") \n",
        "else:\n",
        "  print(\"The year isn't a leap year!\")"
      ],
      "metadata": {
        "colab": {
          "base_uri": "https://localhost:8080/"
        },
        "id": "6DrxVnjchMhy",
        "outputId": "a8b973b9-e2ad-4b7c-a3e9-45f45aa33b59"
      },
      "execution_count": null,
      "outputs": [
        {
          "output_type": "stream",
          "name": "stdout",
          "text": [
            "Enter year to be checked:2018\n",
            "The year isn't a leap year!\n"
          ]
        }
      ]
    },
    {
      "cell_type": "markdown",
      "source": [
        "##<b>8)Write a program to find the euclidean distance between two coordinates."
      ],
      "metadata": {
        "id": "5aDn0_QKkKfc"
      }
    },
    {
      "cell_type": "code",
      "source": [
        "x1=int(input(\"enter x1 : \"))\n",
        "x2=int(input(\"enter x2 : \"))\n",
        "y1=int(input(\"enter y1 : \"))\n",
        "y2=int(input(\"enter y2 : \"))\n",
        "result= ((((x2 - x1 )**2) + ((y2-y1)**2) )**0.5)\n",
        "# print(f'the euclidean distance between two coordinates:{result}')\n",
        "print(\"distance between\",(x1,x2),\"and\",(y1,y2),\"is : \",result)"
      ],
      "metadata": {
        "colab": {
          "base_uri": "https://localhost:8080/"
        },
        "id": "BJfrDFRRjCqX",
        "outputId": "13747e73-8282-45ae-96e1-47c3051796df"
      },
      "execution_count": null,
      "outputs": [
        {
          "output_type": "stream",
          "name": "stdout",
          "text": [
            "enter x1 : 4\n",
            "enter x2 : 6\n",
            "enter y1 : 0\n",
            "enter y2 : 6\n",
            "distance between (4, 6) and (0, 6) is :  6.324555320336759\n"
          ]
        }
      ]
    },
    {
      "cell_type": "code",
      "source": [
        "## another approach\n",
        "import math\n",
        "\n",
        "a=input(\"enter first coordinate : \")\n",
        "p1 = a.split(\",\")\n",
        "b=input(\"enter second coordinate : \")\n",
        "p2 = b.split(\",\")\n",
        "distance = math.sqrt( ((int(p1[0])-int(p2[0]))**2)+((int(p1[1])-int(p2[1]))**2) )\n",
        "print(\"distance between \", a,\"and\", b, \"is\",distance) "
      ],
      "metadata": {
        "colab": {
          "base_uri": "https://localhost:8080/"
        },
        "id": "TqnfdaI7kcPy",
        "outputId": "0a8cbc20-6361-429b-8fcb-f11914ee4564"
      },
      "execution_count": null,
      "outputs": [
        {
          "output_type": "stream",
          "name": "stdout",
          "text": [
            "enter first coordinate : 4,0\n",
            "enter second coordinate : 6,6\n",
            "distance between  4,0 and 6,6 is 6.324555320336759\n"
          ]
        }
      ]
    },
    {
      "cell_type": "markdown",
      "source": [
        "##<b>9)Write a program that take a user inputr of three angles and will find out whether it can form a triangle or not.\n"
      ],
      "metadata": {
        "id": "FnA1icElzI1t"
      }
    },
    {
      "cell_type": "code",
      "source": [
        "# Python Program to check Triangle is Valid or Not\n",
        "\n",
        "a = int(input('Please Enter the First Angle of a Triangle: '))\n",
        "b = int(input('Please Enter the Second Angle of a Triangle: '))\n",
        "c = int(input('Please Enter the Third Angle of a Triangle: '))\n",
        "\n",
        "# checking Triangle is Valid or Not\n",
        "total = a + b + c\n",
        "\n",
        "if total == 180:\n",
        "    print(\"\\nThis is a Valid Triangle\")\n",
        "else:\n",
        "    print(\"\\nThis is an Invalid Triangle\")"
      ],
      "metadata": {
        "id": "Jt5A6CFzlNxY",
        "colab": {
          "base_uri": "https://localhost:8080/"
        },
        "outputId": "a4e64501-46b8-4dc0-c66e-1e2028c195bd"
      },
      "execution_count": null,
      "outputs": [
        {
          "output_type": "stream",
          "name": "stdout",
          "text": [
            "Please Enter the First Angle of a Triangle: 45\n",
            "Please Enter the Second Angle of a Triangle: 75\n",
            "Please Enter the Third Angle of a Triangle: 60\n",
            "\n",
            "This is a Valid Triangle\n"
          ]
        }
      ]
    },
    {
      "cell_type": "markdown",
      "source": [
        "##<b>10)Write a program that will take user input of cost price and selling price and determines whether its a loss or a profit"
      ],
      "metadata": {
        "id": "feSiOQHx0XfF"
      }
    },
    {
      "cell_type": "code",
      "source": [
        "cp=float(input(\"Enter the Cost Price : \"));\n",
        "sp=float(input(\"Enter the Selling Price : \"));\n",
        "if cp==sp:\n",
        "    print(\"No Profit No Loss\")\n",
        "else:\n",
        "    if sp>cp:\n",
        "        print(\"Profit of \",sp-cp)\n",
        "    else:\n",
        "        print(\"Loss of \",cp-sp)"
      ],
      "metadata": {
        "colab": {
          "base_uri": "https://localhost:8080/"
        },
        "id": "P7LZ2jaOz_Z_",
        "outputId": "0cf191ff-f22b-4c05-809a-288fd098d30f"
      },
      "execution_count": null,
      "outputs": [
        {
          "output_type": "stream",
          "name": "stdout",
          "text": [
            "Enter the Cost Price : 55\n",
            "Enter the Selling Price : 13\n",
            "Loss of  42.0\n"
          ]
        }
      ]
    },
    {
      "cell_type": "markdown",
      "source": [
        "##<b>11)Write a program to find the simple interest when the value of principle,rate of interest and time period is given."
      ],
      "metadata": {
        "id": "MAuQZfTx0tGP"
      }
    },
    {
      "cell_type": "code",
      "source": [
        "p = float(input(\"Enter principal: \"))\n",
        "r = float(input(\"Enter rate: \"))\n",
        "t = float(input(\"Enter time: \"))\n",
        "\n",
        "si = p * r * t / 100\n",
        "\n",
        "print(\"Simple Interest =\", si)"
      ],
      "metadata": {
        "colab": {
          "base_uri": "https://localhost:8080/"
        },
        "id": "M0gq9eXd0kg2",
        "outputId": "d5037385-68ac-44c4-ab69-c955446c0181"
      },
      "execution_count": null,
      "outputs": [
        {
          "output_type": "stream",
          "name": "stdout",
          "text": [
            "Enter principal: 55000.75\n",
            "Enter rate: 14.5\n",
            "Enter time: 3\n",
            "Simple Interest = 23925.32625\n"
          ]
        }
      ]
    },
    {
      "cell_type": "markdown",
      "source": [
        "##<b>12)Write a program to find the volume of the cylinder. Also find the cost when ,when the cost of 1litre milk is 40Rs."
      ],
      "metadata": {
        "id": "5u6TiFTV1cdL"
      }
    },
    {
      "cell_type": "code",
      "source": [
        "pi=22/7\n",
        "height = float(input('Height of cylinder: '))\n",
        "radian = float(input('Radius of cylinder: '))\n",
        "volume = pi * radian * radian * height\n",
        "sur_area = ((2*pi*radian) * height) + ((pi*radian**2)*2)\n",
        "print(\"Volume is: \", volume)\n",
        "print(\"Surface Area is: \", sur_area)"
      ],
      "metadata": {
        "id": "aulMYajG1FG8",
        "colab": {
          "base_uri": "https://localhost:8080/"
        },
        "outputId": "562abac8-ae85-429e-e6be-386fbd7498bb"
      },
      "execution_count": 1,
      "outputs": [
        {
          "output_type": "stream",
          "name": "stdout",
          "text": [
            "Height of cylinder: 6\n",
            "Radius of cylinder: 4\n",
            "Volume is:  301.7142857142857\n",
            "Surface Area is:  251.42857142857144\n"
          ]
        }
      ]
    },
    {
      "cell_type": "markdown",
      "source": [
        "##<b>13)Write  a program that will tell whether the given number is divisible by 3 & 6."
      ],
      "metadata": {
        "id": "OohGFV9lQM6y"
      }
    },
    {
      "cell_type": "code",
      "source": [
        "num = int(input(\"GICE ME THE NUMBER: \"))\n",
        "if num%3 == 0:\n",
        "  print(f\"the number {num} is devisible by 3\")\n",
        "  if num%6 == 0:\n",
        "    print(f\"the number {num} is devisible by 6\")\n",
        "else:\n",
        "  print(f\"the {num} is not devisible by 3 or 6\")"
      ],
      "metadata": {
        "colab": {
          "base_uri": "https://localhost:8080/"
        },
        "id": "SgeQyofJP83J",
        "outputId": "0f33b652-79f4-4e76-8434-f085dff8e16b"
      },
      "execution_count": 6,
      "outputs": [
        {
          "output_type": "stream",
          "name": "stdout",
          "text": [
            "GICE ME THE NUMBER: 3\n",
            "the number 3 is devisible by 3\n"
          ]
        }
      ]
    },
    {
      "cell_type": "markdown",
      "source": [
        "##<b>14)Write a program that will determine weather when the value of temperature and humidity is provided by the user.\n",
        "      TEMPERATURE(C)      HUMIDITY(%)          WEATHER\n",
        "\n",
        "---\n",
        "\n",
        "\n",
        "\n",
        "      >= 30               >=90                Hot and Humid\n",
        "      >= 30               < 90                Hot\n",
        "      <30                 >= 90               Cool and Humid\n",
        "      <30                 <90                 Cool\n"
      ],
      "metadata": {
        "id": "4T1qqM1pRkJW"
      }
    },
    {
      "cell_type": "code",
      "source": [
        "temp = int(input(\"give me the temperature : \"))\n",
        "humi = int(input(\"give me the humidity : \"))\n",
        "\n",
        "if temp>=30 & humi>=90:\n",
        "  print(\"Hot and Humid\")\n",
        "elif temp>=30 & humi<90:\n",
        "  print(\"hot\")\n",
        "elif temp<30 & humi>=90:\n",
        "  print('Cool and Humid')\n",
        "elif temp<30 & humi<90:\n",
        "  print(\"Cool\")\n",
        "else:\n",
        "  print(\"ERROR 800\")\n"
      ],
      "metadata": {
        "colab": {
          "base_uri": "https://localhost:8080/"
        },
        "id": "RvTb0GQwRGNp",
        "outputId": "a47ea4fa-ad80-49e5-ece3-e155ede81fed"
      },
      "execution_count": 7,
      "outputs": [
        {
          "output_type": "stream",
          "name": "stdout",
          "text": [
            "give me the temperature : 50\n",
            "give me the humidity : 90\n",
            "hot\n"
          ]
        }
      ]
    },
    {
      "cell_type": "code",
      "source": [
        ""
      ],
      "metadata": {
        "id": "87yZNQAWTaTX"
      },
      "execution_count": null,
      "outputs": []
    }
  ]
}