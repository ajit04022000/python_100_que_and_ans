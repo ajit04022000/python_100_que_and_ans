{
  "nbformat": 4,
  "nbformat_minor": 0,
  "metadata": {
    "colab": {
      "name": "python practice problem.ipynb",
      "provenance": [],
      "authorship_tag": "ABX9TyNQq1FSKZ1mzSA8VXG1BaFp",
      "include_colab_link": true
    },
    "kernelspec": {
      "name": "python3",
      "display_name": "Python 3"
    },
    "language_info": {
      "name": "python"
    }
  },
  "cells": [
    {
      "cell_type": "markdown",
      "metadata": {
        "id": "view-in-github",
        "colab_type": "text"
      },
      "source": [
        "<a href=\"https://colab.research.google.com/github/ajit04022000/python_100_que_and_ans/blob/main/python_practice_problem.ipynb\" target=\"_parent\"><img src=\"https://colab.research.google.com/assets/colab-badge.svg\" alt=\"Open In Colab\"/></a>"
      ]
    },
    {
      "cell_type": "markdown",
      "source": [
        "##<b>1) User will input (3ages).Find the oldest one"
      ],
      "metadata": {
        "id": "C9F6NwCm5oj6"
      }
    },
    {
      "cell_type": "code",
      "execution_count": 21,
      "metadata": {
        "id": "tURGOGsqGxLo",
        "colab": {
          "base_uri": "https://localhost:8080/"
        },
        "outputId": "0b1bf1de-1f1d-4310-b294-588e42baf735"
      },
      "outputs": [
        {
          "output_type": "stream",
          "name": "stdout",
          "text": [
            "enter thr 1st age : 55\n",
            "enter thr 2nd age : 78\n",
            "enter thr 3rd age : 11\n",
            "the oldest age is :\n"
          ]
        },
        {
          "output_type": "execute_result",
          "data": {
            "text/plain": [
              "78"
            ]
          },
          "metadata": {},
          "execution_count": 21
        }
      ],
      "source": [
        "first = int(input(\"enter thr 1st age : \"))\n",
        "second = int(input(\"enter thr 2nd age : \"))\n",
        "third = int(input(\"enter thr 3rd age : \"))\n",
        "new_list = []\n",
        "new_list.append(first)\n",
        "new_list.append(second)\n",
        "new_list.append(third)\n",
        "print(\"the oldest age is :\" )\n",
        "sorted(new_list)[-1]"
      ]
    },
    {
      "cell_type": "markdown",
      "source": [
        "##<b>2) Write a program that will convert celsius value to fahrenheit"
      ],
      "metadata": {
        "id": "hnju_2wX-jGl"
      }
    },
    {
      "cell_type": "markdown",
      "source": [
        "The formula for Fahrenheit to Celsius is °C = [(°F-32)×5]/9"
      ],
      "metadata": {
        "id": "peFaSiag_H1I"
      }
    },
    {
      "cell_type": "code",
      "source": [
        "def far_cel (far):\n",
        "  cel = (far-32)*5/9\n",
        "  return (f\"the celsius of {far} is : {int(cel)}\")"
      ],
      "metadata": {
        "id": "ZqM_xECU7uu0"
      },
      "execution_count": 35,
      "outputs": []
    },
    {
      "cell_type": "code",
      "source": [
        "far_cel(5)"
      ],
      "metadata": {
        "colab": {
          "base_uri": "https://localhost:8080/",
          "height": 36
        },
        "id": "eEH3Zk8M_bGn",
        "outputId": "751c47e7-06e3-4f8a-e0fc-ac3f8d0cff4b"
      },
      "execution_count": 36,
      "outputs": [
        {
          "output_type": "execute_result",
          "data": {
            "text/plain": [
              "'the celsius of 5 is : -15'"
            ],
            "application/vnd.google.colaboratory.intrinsic+json": {
              "type": "string"
            }
          },
          "metadata": {},
          "execution_count": 36
        }
      ]
    },
    {
      "cell_type": "markdown",
      "source": [
        "##<b> 3)User will input (2numbers).Write a program to swap the numbers"
      ],
      "metadata": {
        "id": "Lms_fz1kAkQ1"
      }
    },
    {
      "cell_type": "code",
      "source": [
        ""
      ],
      "metadata": {
        "id": "-URQ56Lf_eRr"
      },
      "execution_count": null,
      "outputs": []
    }
  ]
}